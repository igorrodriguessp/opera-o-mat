{
  "nbformat": 4,
  "nbformat_minor": 0,
  "metadata": {
    "colab": {
      "provenance": [],
      "authorship_tag": "ABX9TyO1f3wCDVcmrtPm1nfjFMXG",
      "include_colab_link": true
    },
    "kernelspec": {
      "name": "python3",
      "display_name": "Python 3"
    },
    "language_info": {
      "name": "python"
    }
  },
  "cells": [
    {
      "cell_type": "markdown",
      "metadata": {
        "id": "view-in-github",
        "colab_type": "text"
      },
      "source": [
        "<a href=\"https://colab.research.google.com/github/igorrodriguessp/opera-o-mat/blob/main/OPERA%C3%87%C3%83O_MATEM%C3%81TICA.ipynb\" target=\"_parent\"><img src=\"https://colab.research.google.com/assets/colab-badge.svg\" alt=\"Open In Colab\"/></a>"
      ]
    },
    {
      "cell_type": "code",
      "source": [
        "# Aprensentação do cod\n",
        "print(\"Olá, Vamos calcular?\")\n",
        "\n",
        "#lista de operações\n",
        "operacoes = [\"Soma\", \"Subtração\", \"Multiplicação\", \"Divisão\"]\n",
        "\n",
        "#EXIBIR OPERAÇÕES COMO NUMEROS\n",
        "print(\"Escolha a operação:\")\n",
        "for i, operacao in enumerate(operacoes, 1):\n",
        "    print(f\"{i}. {operacao}\")\n",
        "\n",
        "#ESCOLHENDO OPERAÇÃO\n",
        "escolha = int(input(\"Digite o número da operação desejada (1/2/3/4): \"))\n",
        "\n",
        "# ESCOLHA DE NÚMEROS DO USUARIO\n",
        "num1 = float(input(\"Digite o primeiro número: \"))\n",
        "num2 = float(input(\"Digite o segundo número: \"))\n",
        "\n",
        "# QUAL OPERAÇÃO FOI ESCOLHIDA E RESULTADO\n",
        "if escolha == 1:\n",
        "    print(f\"O resultado da {operacoes[0]} é: {num1 + num2}\")\n",
        "elif escolha == 2:\n",
        "    print(f\"O resultado da {operacoes[1]} é: {num1 - num2}\")\n",
        "elif escolha == 3:\n",
        "    print(f\"O resultado da {operacoes[2]} é: {num1 * num2}\")\n",
        "elif escolha == 4:\n",
        "    print(f\"O resultado da {operacoes[3]} é: {num1 / num2}\")\n",
        "else:\n",
        "    print(\"valor inválido\")"
      ],
      "metadata": {
        "colab": {
          "base_uri": "https://localhost:8080/"
        },
        "id": "2KuETFcZEibo",
        "outputId": "22ab5de5-0ba0-4e2a-858a-fc7c4ee285af"
      },
      "execution_count": null,
      "outputs": [
        {
          "output_type": "stream",
          "name": "stdout",
          "text": [
            "Olá, Vamos calcular?\n",
            "Escolha a operação:\n",
            "1. Soma\n",
            "2. Subtração\n",
            "3. Multiplicação\n",
            "4. Divisão\n",
            "Digite o número da operação desejada (1/2/3/4): 4\n",
            "Digite o primeiro número: 4\n",
            "Digite o segundo número: 2\n",
            "O resultado da Divisão é: 2.0\n"
          ]
        }
      ]
    },
    {
      "cell_type": "code",
      "source": [],
      "metadata": {
        "id": "PzKkir72yHRc"
      },
      "execution_count": null,
      "outputs": []
    }
  ]
}